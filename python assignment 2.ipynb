{
 "cells": [
  {
   "cell_type": "code",
   "execution_count": 1,
   "id": "0532be1d",
   "metadata": {},
   "outputs": [],
   "source": [
    "##1.What are the two values of the Boolean data type? How do you write them?\n"
   ]
  },
  {
   "cell_type": "code",
   "execution_count": 2,
   "id": "a52ed9d8",
   "metadata": {},
   "outputs": [],
   "source": [
    "##boolean can have 2 values either true or false.this expressions use relational and logical operators."
   ]
  },
  {
   "cell_type": "code",
   "execution_count": 5,
   "id": "7bdaf023",
   "metadata": {},
   "outputs": [],
   "source": [
    "##although values of different data types can be compared,it more common to compare 2 values of the same data  type."
   ]
  },
  {
   "cell_type": "code",
   "execution_count": 6,
   "id": "39a87fdc",
   "metadata": {},
   "outputs": [
    {
     "data": {
      "text/plain": [
       "True"
      ]
     },
     "execution_count": 6,
     "metadata": {},
     "output_type": "execute_result"
    }
   ],
   "source": [
    "25==25"
   ]
  },
  {
   "cell_type": "code",
   "execution_count": 8,
   "id": "bfa9067e",
   "metadata": {},
   "outputs": [
    {
     "data": {
      "text/plain": [
       "True"
      ]
     },
     "execution_count": 8,
     "metadata": {},
     "output_type": "execute_result"
    }
   ],
   "source": [
    "1 < 100"
   ]
  },
  {
   "cell_type": "code",
   "execution_count": 9,
   "id": "2337e197",
   "metadata": {},
   "outputs": [
    {
     "data": {
      "text/plain": [
       "True"
      ]
     },
     "execution_count": 9,
     "metadata": {},
     "output_type": "execute_result"
    }
   ],
   "source": [
    "5.5 <= 6.0"
   ]
  },
  {
   "cell_type": "code",
   "execution_count": 1,
   "id": "ac529c9b",
   "metadata": {},
   "outputs": [
    {
     "data": {
      "text/plain": [
       "True"
      ]
     },
     "execution_count": 1,
     "metadata": {},
     "output_type": "execute_result"
    }
   ],
   "source": [
    "6 != 7"
   ]
  },
  {
   "cell_type": "code",
   "execution_count": 3,
   "id": "d3e7597b",
   "metadata": {},
   "outputs": [
    {
     "data": {
      "text/plain": [
       "True"
      ]
     },
     "execution_count": 3,
     "metadata": {},
     "output_type": "execute_result"
    }
   ],
   "source": [
    "\"abc\" == \"abc\""
   ]
  },
  {
   "cell_type": "code",
   "execution_count": 5,
   "id": "9fda8a0b",
   "metadata": {},
   "outputs": [
    {
     "data": {
      "text/plain": [
       "False"
      ]
     },
     "execution_count": 5,
     "metadata": {},
     "output_type": "execute_result"
    }
   ],
   "source": [
    "\"abc\" == \"abcd\""
   ]
  },
  {
   "cell_type": "code",
   "execution_count": 21,
   "id": "c8f7c918",
   "metadata": {},
   "outputs": [],
   "source": [
    "##What are the three different types of Boolean operators?\n",
    "#there are three logical operators that are used to compare values.this operations are and,or and not\n",
    "#and is use for true if both are true ex:x and y\n",
    "#or is use a=true if atleast one is true ex:x or y\n",
    "#not true only if false ex:not z"
   ]
  },
  {
   "cell_type": "code",
   "execution_count": 7,
   "id": "a9cedff7",
   "metadata": {},
   "outputs": [
    {
     "name": "stdout",
     "output_type": "stream",
     "text": [
      "Object `expressions` not found.\n"
     ]
    }
   ],
   "source": [
    "What are the values of the following expressions?\n"
   ]
  },
  {
   "cell_type": "code",
   "execution_count": null,
   "id": "a8b04449",
   "metadata": {},
   "outputs": [],
   "source": [
    "What are the values of the following expressions"
   ]
  },
  {
   "cell_type": "code",
   "execution_count": 14,
   "id": "bcd9e45d",
   "metadata": {},
   "outputs": [
    {
     "data": {
      "text/plain": [
       "True"
      ]
     },
     "execution_count": 14,
     "metadata": {},
     "output_type": "execute_result"
    }
   ],
   "source": [
    "3 == 5 or 5 > 4"
   ]
  },
  {
   "cell_type": "code",
   "execution_count": 16,
   "id": "51a42aa3",
   "metadata": {},
   "outputs": [
    {
     "data": {
      "text/plain": [
       "False"
      ]
     },
     "execution_count": 16,
     "metadata": {},
     "output_type": "execute_result"
    }
   ],
   "source": [
    "not(5 > 4)"
   ]
  },
  {
   "cell_type": "code",
   "execution_count": 17,
   "id": "654cee72",
   "metadata": {},
   "outputs": [
    {
     "data": {
      "text/plain": [
       "True"
      ]
     },
     "execution_count": 17,
     "metadata": {},
     "output_type": "execute_result"
    }
   ],
   "source": [
    "(5>4) or (3==5)"
   ]
  },
  {
   "cell_type": "code",
   "execution_count": 18,
   "id": "23659da5",
   "metadata": {},
   "outputs": [
    {
     "data": {
      "text/plain": [
       "False"
      ]
     },
     "execution_count": 18,
     "metadata": {},
     "output_type": "execute_result"
    }
   ],
   "source": [
    "(True and True) and (True == False)"
   ]
  },
  {
   "cell_type": "code",
   "execution_count": 19,
   "id": "ecfc8f7c",
   "metadata": {},
   "outputs": [
    {
     "data": {
      "text/plain": [
       "True"
      ]
     },
     "execution_count": 19,
     "metadata": {},
     "output_type": "execute_result"
    }
   ],
   "source": [
    "(not False) or (not True)\n"
   ]
  },
  {
   "cell_type": "code",
   "execution_count": 28,
   "id": "f2c3e15e",
   "metadata": {},
   "outputs": [],
   "source": [
    "##What are the six comparison operators?\n",
    "##less then(<)\n",
    "##less than or equal to (<=)\n",
    "##greater than(>)\n",
    "##greater than or equal to(>=)\n",
    "##equal(==)\n",
    "##not equal to(!=)\n"
   ]
  },
  {
   "cell_type": "code",
   "execution_count": 29,
   "id": "e1a36800",
   "metadata": {},
   "outputs": [],
   "source": [
    "##How do you tell the difference between the equal to and assignment operators?Describe a condition and when you would use one.\n",
    "##(= is assignment, like if you wanna assign x as 2, you do int x = 2.)\n",
    "##(== is comparison, if you wanna compare x and 2, you do if (x == 2), either true or false.)"
   ]
  },
  {
   "cell_type": "code",
   "execution_count": 31,
   "id": "62a93194",
   "metadata": {},
   "outputs": [
    {
     "name": "stdout",
     "output_type": "stream",
     "text": [
      "ham\n",
      "spam\n",
      "spam\n"
     ]
    }
   ],
   "source": [
    "spam = 0\n",
    "if spam == 10:\n",
    "    print('eggs')\n",
    "if spam > 5:\n",
    "    print('bacon')\n",
    "else:\n",
    "    print('ham')\n",
    "    print('spam')\n",
    "    print('spam')\n"
   ]
  },
  {
   "cell_type": "markdown",
   "id": "38c19ca3",
   "metadata": {},
   "source": [
    " Write code that prints Hello if 1 is stored in spam, prints Howdy if 2 is stored in spam, and prints Greetings! if anything else is stored in spam.\n",
    "\n"
   ]
  },
  {
   "cell_type": "code",
   "execution_count": 36,
   "id": "087fe572",
   "metadata": {},
   "outputs": [
    {
     "name": "stdout",
     "output_type": "stream",
     "text": [
      "Greetings!\n"
     ]
    }
   ],
   "source": [
    "if spam == 1:\n",
    "    print(\"hello\")\n",
    "if spam == 2:\n",
    "    print(howdy)\n",
    "else:\n",
    "    print(\"Greetings!\")\n"
   ]
  },
  {
   "cell_type": "markdown",
   "id": "0d070c57",
   "metadata": {},
   "source": [
    "If your programme is stuck in an endless loop, what keys you’ll press?"
   ]
  },
  {
   "cell_type": "markdown",
   "id": "90b3e05a",
   "metadata": {},
   "source": [
    "if there is a endless loop we should press ctrl+c"
   ]
  },
  {
   "cell_type": "raw",
   "id": "4d86e3d0",
   "metadata": {},
   "source": [
    "How can you tell the difference between break and continue?\n"
   ]
  },
  {
   "cell_type": "markdown",
   "id": "a93f0fe2",
   "metadata": {},
   "source": [
    "The break statement is usually used with the switch statement, and it can also use it within the loop\n",
    "The continue statement is not used with the switch statement, but it can be used within the while loop"
   ]
  },
  {
   "cell_type": "raw",
   "id": "8ca09ed7",
   "metadata": {},
   "source": [
    "In a for loop, what is the difference between range(10), range(0, 10), and range(0, 10, 1)"
   ]
  },
  {
   "cell_type": "code",
   "execution_count": 37,
   "id": "552b2203",
   "metadata": {},
   "outputs": [
    {
     "data": {
      "text/plain": [
       "range(0, 10)"
      ]
     },
     "execution_count": 37,
     "metadata": {},
     "output_type": "execute_result"
    }
   ],
   "source": [
    "range(10)"
   ]
  },
  {
   "cell_type": "code",
   "execution_count": 38,
   "id": "7442f3bd",
   "metadata": {},
   "outputs": [
    {
     "data": {
      "text/plain": [
       "range(0, 10)"
      ]
     },
     "execution_count": 38,
     "metadata": {},
     "output_type": "execute_result"
    }
   ],
   "source": [
    "range(0,10)"
   ]
  },
  {
   "cell_type": "code",
   "execution_count": 41,
   "id": "2ea5d36f",
   "metadata": {},
   "outputs": [
    {
     "data": {
      "text/plain": [
       "range(0, 10)"
      ]
     },
     "execution_count": 41,
     "metadata": {},
     "output_type": "execute_result"
    }
   ],
   "source": [
    "range(0,10,1)"
   ]
  },
  {
   "cell_type": "markdown",
   "id": "b3316b25",
   "metadata": {},
   "source": [
    "all are the same"
   ]
  },
  {
   "cell_type": "raw",
   "id": "f751eb37",
   "metadata": {},
   "source": [
    "Write a short program that prints the numbers 1 to 10 using a for loop. Then write an equivalent program that prints the numbers 1 to 10 using a while loop.\n"
   ]
  },
  {
   "cell_type": "code",
   "execution_count": null,
   "id": "4f0fede7",
   "metadata": {},
   "outputs": [],
   "source": [
    "for i in range (1,11):\n",
    "print(i)\n",
    "and:\n",
    "i = 1\n",
    "while i <= 10:\n",
    "print(i)\n",
    "i = i + 1"
   ]
  },
  {
   "cell_type": "markdown",
   "id": "02c4ebc7",
   "metadata": {},
   "source": [
    " If you had a function named bacon() inside a module named spam, how would you call it after importing spam?"
   ]
  },
  {
   "cell_type": "raw",
   "id": "6b2333a6",
   "metadata": {},
   "source": [
    "this function can be called with spam.bacon().\n",
    "\n"
   ]
  },
  {
   "cell_type": "code",
   "execution_count": null,
   "id": "086d09ba",
   "metadata": {},
   "outputs": [],
   "source": []
  }
 ],
 "metadata": {
  "kernelspec": {
   "display_name": "Python 3 (ipykernel)",
   "language": "python",
   "name": "python3"
  },
  "language_info": {
   "codemirror_mode": {
    "name": "ipython",
    "version": 3
   },
   "file_extension": ".py",
   "mimetype": "text/x-python",
   "name": "python",
   "nbconvert_exporter": "python",
   "pygments_lexer": "ipython3",
   "version": "3.9.7"
  }
 },
 "nbformat": 4,
 "nbformat_minor": 5
}
